{
 "cells": [
  {
   "cell_type": "code",
   "execution_count": 85,
   "metadata": {},
   "outputs": [],
   "source": [
    "import json\n",
    "import joblib"
   ]
  },
  {
   "cell_type": "code",
   "execution_count": 86,
   "metadata": {},
   "outputs": [],
   "source": [
    "model = joblib.load(\"model\\log_model.joblib\")\n",
    "scaler = joblib.load(\"model\\StandardScaler.joblib\")\n",
    "le_gender = joblib.load(\"model\\LabelEncodergender.joblib\")\n",
    "le_InternetService = joblib.load(\"model\\LabelEncoderInternetService.joblib\")\n",
    "le_PaperlessBilling = joblib.load(\"model\\LabelEncoderPaperlessBilling.joblib\")\n",
    "le_Partner = joblib.load(\"model\\LabelEncoderPartner.joblib\")\n",
    "le_PhoneService = joblib.load(\"model\\LabelEncoderPhoneService.joblib\")\n",
    "le_SeniorCitizen = joblib.load(\"model\\LabelEncoderSeniorCitizen.joblib\")\n",
    "le_StreamingTV = joblib.load(\"model\\LabelEncoderStreamingTV.joblib\")"
   ]
  },
  {
   "cell_type": "code",
   "execution_count": 87,
   "metadata": {},
   "outputs": [
    {
     "name": "stderr",
     "output_type": "stream",
     "text": [
      "c:\\Users\\Dicoding\\anaconda3\\envs\\main-ds\\lib\\site-packages\\sklearn\\base.py:409: UserWarning: X does not have valid feature names, but StandardScaler was fitted with feature names\n",
      "  warnings.warn(\n"
     ]
    },
    {
     "data": {
      "text/plain": [
       "[-1.1612937791359237, -0.9957868977655643, -1.2444045711265732]"
      ]
     },
     "execution_count": 87,
     "metadata": {},
     "output_type": "execute_result"
    }
   ],
   "source": [
    "list(scaler.transform([[29.85, 29.85, 1]])[0])"
   ]
  },
  {
   "cell_type": "code",
   "execution_count": 88,
   "metadata": {},
   "outputs": [
    {
     "data": {
      "text/plain": [
       "array([1])"
      ]
     },
     "execution_count": 88,
     "metadata": {},
     "output_type": "execute_result"
    }
   ],
   "source": [
    "le_gender.transform([\"Male\"])"
   ]
  },
  {
   "cell_type": "code",
   "execution_count": 89,
   "metadata": {},
   "outputs": [
    {
     "data": {
      "text/plain": [
       "array([0])"
      ]
     },
     "execution_count": 89,
     "metadata": {},
     "output_type": "execute_result"
    }
   ],
   "source": [
    "le_gender.transform([\"Female\"])"
   ]
  },
  {
   "cell_type": "code",
   "execution_count": 90,
   "metadata": {},
   "outputs": [
    {
     "data": {
      "text/plain": [
       "array(['Female', 'Male'], dtype=object)"
      ]
     },
     "execution_count": 90,
     "metadata": {},
     "output_type": "execute_result"
    }
   ],
   "source": [
    "le_gender.classes_"
   ]
  },
  {
   "cell_type": "code",
   "execution_count": 91,
   "metadata": {},
   "outputs": [
    {
     "data": {
      "text/plain": [
       "array(['No', 'Yes'], dtype=object)"
      ]
     },
     "execution_count": 91,
     "metadata": {},
     "output_type": "execute_result"
    }
   ],
   "source": [
    "le_streaming.classes_"
   ]
  },
  {
   "cell_type": "code",
   "execution_count": 92,
   "metadata": {},
   "outputs": [],
   "source": [
    "raw_data= {\"data\": {\n",
    "    \"gender\": \"Female\",\n",
    "    \"SeniorCitizen\": \"No\",\n",
    "    \"Partner\": \"Yes\",\n",
    "    \"StreamingTV\": \"No\",\n",
    "    \"PhoneService\": \"No\",\n",
    "    \"InternetService\": \"DSL\",\n",
    "    \"PaperlessBilling\": \"Yes\",\n",
    "    \"MonthlyCharges\": 29.85,\n",
    "    \"TotalCharges\": 29.85,\n",
    "    \"tenure\": 1\n",
    "}}"
   ]
  },
  {
   "cell_type": "code",
   "execution_count": 93,
   "metadata": {},
   "outputs": [
    {
     "name": "stdout",
     "output_type": "stream",
     "text": [
      "gender\n",
      "SeniorCitizen\n",
      "Partner\n",
      "StreamingTV\n",
      "PhoneService\n",
      "InternetService\n",
      "PaperlessBilling\n",
      "MonthlyCharges\n",
      "TotalCharges\n",
      "tenure\n"
     ]
    }
   ],
   "source": [
    "for key in raw_data[\"data\"]:\n",
    "    print(key)"
   ]
  },
  {
   "cell_type": "code",
   "execution_count": 94,
   "metadata": {},
   "outputs": [
    {
     "data": {
      "text/plain": [
       "'Female'"
      ]
     },
     "execution_count": 94,
     "metadata": {},
     "output_type": "execute_result"
    }
   ],
   "source": [
    "raw_data[\"data\"][\"gender\"]"
   ]
  },
  {
   "cell_type": "code",
   "execution_count": 95,
   "metadata": {},
   "outputs": [
    {
     "data": {
      "text/plain": [
       "0"
      ]
     },
     "execution_count": 95,
     "metadata": {},
     "output_type": "execute_result"
    }
   ],
   "source": [
    "le_gender.transform([raw_data[\"data\"][\"gender\"]])[0]"
   ]
  },
  {
   "cell_type": "code",
   "execution_count": 96,
   "metadata": {},
   "outputs": [],
   "source": [
    "def preprocessing(data):\n",
    "    new_data = []\n",
    "    numeric_data = []\n",
    "    \n",
    "    new_data.append(le_gender.transform([data[\"data\"][\"gender\"]])[0])\n",
    "    new_data.append(le_SeniorCitizen.transform([data[\"data\"][\"SeniorCitizen\"]])[0])\n",
    "    new_data.append(le_Partner.transform([data[\"data\"][\"Partner\"]])[0])\n",
    "    new_data.append(le_StreamingTV.transform([data[\"data\"][\"StreamingTV\"]])[0])\n",
    "    new_data.append(le_PhoneService.transform([data[\"data\"][\"PhoneService\"]])[0])\n",
    "    new_data.append(le_InternetService.transform([data[\"data\"][\"InternetService\"]])[0])\n",
    "    new_data.append(le_PaperlessBilling.transform([data[\"data\"][\"PaperlessBilling\"]])[0])\n",
    "    \n",
    "    numeric_data.append(data[\"data\"][\"MonthlyCharges\"])\n",
    "    numeric_data.append(data[\"data\"][\"TotalCharges\"])\n",
    "    numeric_data.append(data[\"data\"][\"tenure\"])\n",
    "    new_numeric_data = scaler.transform([numeric_data])[0]\n",
    "    new_data.append(new_numeric_data[0])\n",
    "    new_data.append(new_numeric_data[1])\n",
    "    new_data.append(new_numeric_data[2])\n",
    "    return new_data"
   ]
  },
  {
   "cell_type": "code",
   "execution_count": 97,
   "metadata": {},
   "outputs": [
    {
     "data": {
      "text/plain": [
       "{'gender': 'Female',\n",
       " 'SeniorCitizen': 'No',\n",
       " 'Partner': 'Yes',\n",
       " 'StreamingTV': 'No',\n",
       " 'PhoneService': 'No',\n",
       " 'InternetService': 'DSL',\n",
       " 'PaperlessBilling': 'Yes',\n",
       " 'MonthlyCharges': 29.85,\n",
       " 'TotalCharges': 29.85,\n",
       " 'tenure': 1}"
      ]
     },
     "execution_count": 97,
     "metadata": {},
     "output_type": "execute_result"
    }
   ],
   "source": [
    "raw_data[\"data\"]"
   ]
  },
  {
   "cell_type": "code",
   "execution_count": 98,
   "metadata": {},
   "outputs": [
    {
     "name": "stderr",
     "output_type": "stream",
     "text": [
      "c:\\Users\\Dicoding\\anaconda3\\envs\\main-ds\\lib\\site-packages\\sklearn\\base.py:409: UserWarning: X does not have valid feature names, but StandardScaler was fitted with feature names\n",
      "  warnings.warn(\n",
      "c:\\Users\\Dicoding\\anaconda3\\envs\\main-ds\\lib\\site-packages\\sklearn\\base.py:409: UserWarning: X does not have valid feature names, but LogisticRegression was fitted with feature names\n",
      "  warnings.warn(\n"
     ]
    },
    {
     "data": {
      "text/plain": [
       "array([1], dtype=int64)"
      ]
     },
     "execution_count": 98,
     "metadata": {},
     "output_type": "execute_result"
    }
   ],
   "source": [
    "model.predict([preprocessing(raw_data)])"
   ]
  },
  {
   "cell_type": "code",
   "execution_count": 99,
   "metadata": {},
   "outputs": [],
   "source": [
    "def predict(data):\n",
    "    # request_json = request.json\n",
    "    data_preprocessing = preprocessing(data)\n",
    "\n",
    "    prediction = model.predict([data_preprocessing])\n",
    "    prediction_string = [str(d) for d in prediction]\n",
    "\n",
    "    response_json = {\n",
    "        \"raw_data\": data[\"data\"],\n",
    "        \"prediction\": list(prediction_string)\n",
    "    }\n",
    "\n",
    "    return json.dumps(response_json)"
   ]
  },
  {
   "cell_type": "code",
   "execution_count": 100,
   "metadata": {},
   "outputs": [
    {
     "name": "stderr",
     "output_type": "stream",
     "text": [
      "c:\\Users\\Dicoding\\anaconda3\\envs\\main-ds\\lib\\site-packages\\sklearn\\base.py:409: UserWarning: X does not have valid feature names, but StandardScaler was fitted with feature names\n",
      "  warnings.warn(\n",
      "c:\\Users\\Dicoding\\anaconda3\\envs\\main-ds\\lib\\site-packages\\sklearn\\base.py:409: UserWarning: X does not have valid feature names, but LogisticRegression was fitted with feature names\n",
      "  warnings.warn(\n"
     ]
    },
    {
     "data": {
      "text/plain": [
       "'{\"raw_data\": {\"gender\": \"Female\", \"SeniorCitizen\": \"No\", \"Partner\": \"Yes\", \"StreamingTV\": \"No\", \"PhoneService\": \"No\", \"InternetService\": \"DSL\", \"PaperlessBilling\": \"Yes\", \"MonthlyCharges\": 29.85, \"TotalCharges\": 29.85, \"tenure\": 1}, \"prediction\": [\"1\"]}'"
      ]
     },
     "execution_count": 100,
     "metadata": {},
     "output_type": "execute_result"
    }
   ],
   "source": [
    "predict(raw_data)"
   ]
  },
  {
   "cell_type": "code",
   "execution_count": null,
   "metadata": {},
   "outputs": [],
   "source": []
  }
 ],
 "metadata": {
  "kernelspec": {
   "display_name": "main-ds",
   "language": "python",
   "name": "python3"
  },
  "language_info": {
   "codemirror_mode": {
    "name": "ipython",
    "version": 3
   },
   "file_extension": ".py",
   "mimetype": "text/x-python",
   "name": "python",
   "nbconvert_exporter": "python",
   "pygments_lexer": "ipython3",
   "version": "3.8.15"
  },
  "orig_nbformat": 4,
  "vscode": {
   "interpreter": {
    "hash": "8b66689f594ececcfbcf32481d42e2ef101ab98a72de1136a64b62a6a219ffee"
   }
  }
 },
 "nbformat": 4,
 "nbformat_minor": 2
}
