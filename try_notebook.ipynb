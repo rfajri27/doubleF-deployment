{
 "cells": [
  {
   "cell_type": "code",
   "execution_count": 1,
   "metadata": {},
   "outputs": [],
   "source": [
    "import json\n",
    "import joblib"
   ]
  },
  {
   "cell_type": "code",
   "execution_count": 15,
   "metadata": {},
   "outputs": [],
   "source": [
    "model = joblib.load(\"model\\log_model.joblib\")\n",
    "scaler = joblib.load(\"model\\StandardScaler.joblib\")\n",
    "le_gender = joblib.load(\"model\\LabelEncodergender.joblib\")\n",
    "le_internet = joblib.load(\"model\\LabelEncoderInternetService.joblib\")\n",
    "le_paperless = joblib.load(\"model\\LabelEncoderPaperlessBilling.joblib\")\n",
    "le_partner = joblib.load(\"model\\LabelEncoderPartner.joblib\")\n",
    "le_phoneservice = joblib.load(\"model\\LabelEncoderPhoneService.joblib\")\n",
    "le_seniorcitizen = joblib.load(\"model\\LabelEncoderSeniorCitizen.joblib\")\n",
    "le_streaming = joblib.load(\"model\\LabelEncoderSeniorCitizen.joblib\")\n"
   ]
  },
  {
   "cell_type": "code",
   "execution_count": 16,
   "metadata": {},
   "outputs": [
    {
     "data": {
      "text/plain": [
       "array([1])"
      ]
     },
     "execution_count": 16,
     "metadata": {},
     "output_type": "execute_result"
    }
   ],
   "source": [
    "le_gender.transform([\"Male\"])"
   ]
  },
  {
   "cell_type": "code",
   "execution_count": 17,
   "metadata": {},
   "outputs": [
    {
     "data": {
      "text/plain": [
       "array([0])"
      ]
     },
     "execution_count": 17,
     "metadata": {},
     "output_type": "execute_result"
    }
   ],
   "source": [
    "le_gender.transform([\"Female\"])"
   ]
  },
  {
   "cell_type": "code",
   "execution_count": 18,
   "metadata": {},
   "outputs": [
    {
     "data": {
      "text/plain": [
       "array(['Female', 'Male'], dtype=object)"
      ]
     },
     "execution_count": 18,
     "metadata": {},
     "output_type": "execute_result"
    }
   ],
   "source": [
    "le_gender.classes_"
   ]
  },
  {
   "cell_type": "code",
   "execution_count": 19,
   "metadata": {},
   "outputs": [
    {
     "data": {
      "text/plain": [
       "array(['No', 'Yes'], dtype=object)"
      ]
     },
     "execution_count": 19,
     "metadata": {},
     "output_type": "execute_result"
    }
   ],
   "source": [
    "le_streaming.classes_"
   ]
  },
  {
   "cell_type": "code",
   "execution_count": 3,
   "metadata": {},
   "outputs": [],
   "source": [
    "def preprocessing(data):\n",
    "    new_data = []\n",
    "    \n",
    "    \n",
    "    return new_data"
   ]
  },
  {
   "cell_type": "code",
   "execution_count": 5,
   "metadata": {},
   "outputs": [],
   "source": [
    "def predict(data):\n",
    "    # request_json = request.json\n",
    "    data_ = preprocessing(data)\n",
    "\n",
    "    prediction = model.predict(data_)\n",
    "    prediction_string = [str(d) for d in prediction]\n",
    "\n",
    "    response_json = {\n",
    "        \"raw_data\": data,\n",
    "        \"data\": data_,\n",
    "        \"prediction\": list(prediction_string)\n",
    "    }\n",
    "\n",
    "    return json.dumps(response_json)"
   ]
  },
  {
   "cell_type": "code",
   "execution_count": 6,
   "metadata": {},
   "outputs": [],
   "source": [
    "raw_data = [\"Male\", \"No\", \"No\", \"Yes\", \"Yes\", \"Fiber optic\", \"Yes\", 99.95, 1931.75, 19]"
   ]
  },
  {
   "cell_type": "code",
   "execution_count": 22,
   "metadata": {},
   "outputs": [],
   "source": [
    "raw_data= {\"data\": {\n",
    "    \"gender\": \"Female\",\n",
    "    \"SeniorCitizen\": \"No\",\n",
    "    \"Partner\": \"Yes\",\n",
    "    \"StreamingTV\": \"No\",\n",
    "    \"PhoneService\": \"No\",\n",
    "    \"InternetService\": \"DSL\",\n",
    "    \"PaperlessBilling\": \"Yes\",\n",
    "    \"MonthlyCharges\": 29.85,\n",
    "    \"TotalCharges\": 29.85,\n",
    "    \"tenure\": 1\n",
    "}}"
   ]
  },
  {
   "cell_type": "code",
   "execution_count": 24,
   "metadata": {},
   "outputs": [
    {
     "data": {
      "text/plain": [
       "{'gender': 'Female',\n",
       " 'SeniorCitizen': 'No',\n",
       " 'Partner': 'Yes',\n",
       " 'StreamingTV': 'No',\n",
       " 'PhoneService': 'No',\n",
       " 'InternetService': 'DSL',\n",
       " 'PaperlessBilling': 'Yes',\n",
       " 'MonthlyCharges': 29.85,\n",
       " 'TotalCharges': 29.85,\n",
       " 'tenure': 1}"
      ]
     },
     "execution_count": 24,
     "metadata": {},
     "output_type": "execute_result"
    }
   ],
   "source": [
    "raw_data[\"data\"]"
   ]
  },
  {
   "cell_type": "code",
   "execution_count": 7,
   "metadata": {},
   "outputs": [
    {
     "ename": "ValueError",
     "evalue": "invalid literal for int() with base 10: 'Male'",
     "output_type": "error",
     "traceback": [
      "\u001b[1;31m---------------------------------------------------------------------------\u001b[0m",
      "\u001b[1;31mValueError\u001b[0m                                Traceback (most recent call last)",
      "Cell \u001b[1;32mIn[7], line 1\u001b[0m\n\u001b[1;32m----> 1\u001b[0m preprocessing(raw_data)\n",
      "Cell \u001b[1;32mIn[3], line 2\u001b[0m, in \u001b[0;36mpreprocessing\u001b[1;34m(data)\u001b[0m\n\u001b[0;32m      1\u001b[0m \u001b[39mdef\u001b[39;00m \u001b[39mpreprocessing\u001b[39m(data):\n\u001b[1;32m----> 2\u001b[0m     data[:\u001b[39m7\u001b[39m] \u001b[39m=\u001b[39m label_encoder\u001b[39m.\u001b[39;49mtransform(data[:\u001b[39m7\u001b[39;49m])\n\u001b[0;32m      3\u001b[0m     data[\u001b[39m-\u001b[39m\u001b[39m3\u001b[39m:] \u001b[39m=\u001b[39m scaler\u001b[39m.\u001b[39mtransform(data[\u001b[39m-\u001b[39m\u001b[39m3\u001b[39m:])\n\u001b[0;32m      5\u001b[0m     \u001b[39mreturn\u001b[39;00m data\n",
      "File \u001b[1;32mc:\\Users\\Dicoding\\anaconda3\\envs\\main-ds\\lib\\site-packages\\sklearn\\utils\\_set_output.py:142\u001b[0m, in \u001b[0;36m_wrap_method_output.<locals>.wrapped\u001b[1;34m(self, X, *args, **kwargs)\u001b[0m\n\u001b[0;32m    140\u001b[0m \u001b[39m@wraps\u001b[39m(f)\n\u001b[0;32m    141\u001b[0m \u001b[39mdef\u001b[39;00m \u001b[39mwrapped\u001b[39m(\u001b[39mself\u001b[39m, X, \u001b[39m*\u001b[39margs, \u001b[39m*\u001b[39m\u001b[39m*\u001b[39mkwargs):\n\u001b[1;32m--> 142\u001b[0m     data_to_wrap \u001b[39m=\u001b[39m f(\u001b[39mself\u001b[39;49m, X, \u001b[39m*\u001b[39;49margs, \u001b[39m*\u001b[39;49m\u001b[39m*\u001b[39;49mkwargs)\n\u001b[0;32m    143\u001b[0m     \u001b[39mif\u001b[39;00m \u001b[39misinstance\u001b[39m(data_to_wrap, \u001b[39mtuple\u001b[39m):\n\u001b[0;32m    144\u001b[0m         \u001b[39m# only wrap the first output for cross decomposition\u001b[39;00m\n\u001b[0;32m    145\u001b[0m         \u001b[39mreturn\u001b[39;00m (\n\u001b[0;32m    146\u001b[0m             _wrap_data_with_container(method, data_to_wrap[\u001b[39m0\u001b[39m], X, \u001b[39mself\u001b[39m),\n\u001b[0;32m    147\u001b[0m             \u001b[39m*\u001b[39mdata_to_wrap[\u001b[39m1\u001b[39m:],\n\u001b[0;32m    148\u001b[0m         )\n",
      "File \u001b[1;32mc:\\Users\\Dicoding\\anaconda3\\envs\\main-ds\\lib\\site-packages\\sklearn\\preprocessing\\_label.py:134\u001b[0m, in \u001b[0;36mLabelEncoder.transform\u001b[1;34m(self, y)\u001b[0m\n\u001b[0;32m    121\u001b[0m \u001b[39m\"\"\"Transform labels to normalized encoding.\u001b[39;00m\n\u001b[0;32m    122\u001b[0m \n\u001b[0;32m    123\u001b[0m \u001b[39mParameters\u001b[39;00m\n\u001b[1;32m   (...)\u001b[0m\n\u001b[0;32m    131\u001b[0m \u001b[39m    Labels as normalized encodings.\u001b[39;00m\n\u001b[0;32m    132\u001b[0m \u001b[39m\"\"\"\u001b[39;00m\n\u001b[0;32m    133\u001b[0m check_is_fitted(\u001b[39mself\u001b[39m)\n\u001b[1;32m--> 134\u001b[0m y \u001b[39m=\u001b[39m column_or_1d(y, dtype\u001b[39m=\u001b[39;49m\u001b[39mself\u001b[39;49m\u001b[39m.\u001b[39;49mclasses_\u001b[39m.\u001b[39;49mdtype, warn\u001b[39m=\u001b[39;49m\u001b[39mTrue\u001b[39;49;00m)\n\u001b[0;32m    135\u001b[0m \u001b[39m# transform of empty array is empty array\u001b[39;00m\n\u001b[0;32m    136\u001b[0m \u001b[39mif\u001b[39;00m _num_samples(y) \u001b[39m==\u001b[39m \u001b[39m0\u001b[39m:\n",
      "File \u001b[1;32mc:\\Users\\Dicoding\\anaconda3\\envs\\main-ds\\lib\\site-packages\\sklearn\\utils\\validation.py:1177\u001b[0m, in \u001b[0;36mcolumn_or_1d\u001b[1;34m(y, dtype, warn)\u001b[0m\n\u001b[0;32m   1151\u001b[0m \u001b[39m\"\"\"Ravel column or 1d numpy array, else raises an error.\u001b[39;00m\n\u001b[0;32m   1152\u001b[0m \n\u001b[0;32m   1153\u001b[0m \u001b[39mParameters\u001b[39;00m\n\u001b[1;32m   (...)\u001b[0m\n\u001b[0;32m   1174\u001b[0m \u001b[39m    If `y` is not a 1D array or a 2D array with a single row or column.\u001b[39;00m\n\u001b[0;32m   1175\u001b[0m \u001b[39m\"\"\"\u001b[39;00m\n\u001b[0;32m   1176\u001b[0m xp, _ \u001b[39m=\u001b[39m get_namespace(y)\n\u001b[1;32m-> 1177\u001b[0m y \u001b[39m=\u001b[39m xp\u001b[39m.\u001b[39;49masarray(y, dtype\u001b[39m=\u001b[39;49mdtype)\n\u001b[0;32m   1178\u001b[0m shape \u001b[39m=\u001b[39m y\u001b[39m.\u001b[39mshape\n\u001b[0;32m   1179\u001b[0m \u001b[39mif\u001b[39;00m \u001b[39mlen\u001b[39m(shape) \u001b[39m==\u001b[39m \u001b[39m1\u001b[39m:\n",
      "File \u001b[1;32mc:\\Users\\Dicoding\\anaconda3\\envs\\main-ds\\lib\\site-packages\\sklearn\\utils\\_array_api.py:75\u001b[0m, in \u001b[0;36m_NumPyApiWrapper.asarray\u001b[1;34m(self, x, dtype, device, copy)\u001b[0m\n\u001b[0;32m     73\u001b[0m     \u001b[39mreturn\u001b[39;00m numpy\u001b[39m.\u001b[39marray(x, copy\u001b[39m=\u001b[39m\u001b[39mTrue\u001b[39;00m, dtype\u001b[39m=\u001b[39mdtype)\n\u001b[0;32m     74\u001b[0m \u001b[39melse\u001b[39;00m:\n\u001b[1;32m---> 75\u001b[0m     \u001b[39mreturn\u001b[39;00m numpy\u001b[39m.\u001b[39;49masarray(x, dtype\u001b[39m=\u001b[39;49mdtype)\n",
      "\u001b[1;31mValueError\u001b[0m: invalid literal for int() with base 10: 'Male'"
     ]
    }
   ],
   "source": [
    "preprocessing(raw_data)"
   ]
  },
  {
   "cell_type": "code",
   "execution_count": null,
   "metadata": {},
   "outputs": [],
   "source": []
  }
 ],
 "metadata": {
  "kernelspec": {
   "display_name": "main-ds",
   "language": "python",
   "name": "python3"
  },
  "language_info": {
   "codemirror_mode": {
    "name": "ipython",
    "version": 3
   },
   "file_extension": ".py",
   "mimetype": "text/x-python",
   "name": "python",
   "nbconvert_exporter": "python",
   "pygments_lexer": "ipython3",
   "version": "3.8.15"
  },
  "orig_nbformat": 4,
  "vscode": {
   "interpreter": {
    "hash": "8b66689f594ececcfbcf32481d42e2ef101ab98a72de1136a64b62a6a219ffee"
   }
  }
 },
 "nbformat": 4,
 "nbformat_minor": 2
}
